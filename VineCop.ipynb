{
 "cells": [
  {
   "cell_type": "markdown",
   "metadata": {},
   "source": [
    "### Copula Fitting and Signal Generation"
   ]
  },
  {
   "cell_type": "code",
   "execution_count": null,
   "metadata": {},
   "outputs": [],
   "source": [
    "%load_ext autoreload\n",
    "%autoreload 2\n",
    "%reload_ext autoreload"
   ]
  },
  {
   "cell_type": "code",
   "execution_count": null,
   "metadata": {},
   "outputs": [],
   "source": [
    "import pandas as pd\n",
    "import numpy as np\n",
    "from ps.partner_selection import PartnerSelection\n",
    "from strategy.CMPI_strategy import CMPI"
   ]
  },
  {
   "cell_type": "markdown",
   "metadata": {},
   "source": [
    "Load in our list of cohorts, with target stock in the first column. Calculate respective log-returns. In this example we use 1 year daily data (as stuggested by Stubinger et. al, 2017)."
   ]
  },
  {
   "cell_type": "code",
   "execution_count": null,
   "metadata": {},
   "outputs": [],
   "source": [
    "quadruples = pd.read_csv('./data/quadruples.csv').to_numpy()\n",
    "q = 3\n",
    "\n",
    "df = pd.read_csv('./data/data/data.csv', parse_dates=True, index_col='Date').dropna()\n",
    "training_returns = df['2017-01-01':'2017-12-31'].loc[:, quadruples[q]].apply(lambda x: np.log(x).diff()).cumsum().dropna(how='any')\n",
    "testing_returns = df['2018-01-01':'2019-12-31'].loc[:, quadruples[q]].apply(lambda x: np.log(x).diff()).cumsum().dropna(how='any')"
   ]
  },
  {
   "cell_type": "code",
   "execution_count": null,
   "metadata": {},
   "outputs": [],
   "source": [
    "strat = CMPI()\n",
    "strat.init_copula_model(training_returns)\n",
    "strat.cvm.summary()"
   ]
  },
  {
   "cell_type": "code",
   "execution_count": null,
   "metadata": {},
   "outputs": [],
   "source": [
    "cmpi = strat.generate_cmpi(testing_returns)"
   ]
  },
  {
   "cell_type": "code",
   "execution_count": null,
   "metadata": {},
   "outputs": [],
   "source": [
    "import matplotlib.pyplot as plt\n",
    "lower_band = strat.calculate_bollinger_bands(cmpi, 20, -2.5)\n",
    "upper_band = strat.calculate_bollinger_bands(cmpi, 20, 2.5)\n",
    "\n",
    "f = plt.figure()\n",
    "f.set_figheight(8)\n",
    "f.set_figwidth(30)\n",
    "plt.plot(cmpi)\n",
    "plt.plot(lower_band)\n",
    "plt.plot(upper_band)\n",
    "#plt.plot(testing_returns.cumsum().to_numpy())\n",
    "plt.show()"
   ]
  },
  {
   "cell_type": "code",
   "execution_count": null,
   "metadata": {},
   "outputs": [],
   "source": [
    "import numpy as np\n",
    "\n",
    "lower = lower_band.values\n",
    "upper = upper_band.values\n",
    "\n",
    "signal = cmpi.values\n",
    "\n",
    "position = np.zeros(len(signal))\n",
    "for i in range(len(signal)):\n",
    "    if signal[i] < lower[i]:\n",
    "        if position[i] == 0:\n",
    "            position[i] = -1\n",
    "        elif position[i] == 1:\n",
    "            position[i] = 0\n",
    "    elif signal[i] > upper[i]:\n",
    "        if position[i] == 0:\n",
    "            position[i] = 1\n",
    "        elif position[i] == -1:\n",
    "            position[i] = 0\n",
    "\n",
    "f = plt.figure()\n",
    "f.set_figheight(4)\n",
    "f.set_figwidth(15)\n",
    "plt.plot(position)"
   ]
  },
  {
   "cell_type": "code",
   "execution_count": null,
   "metadata": {},
   "outputs": [],
   "source": [
    "quadruples = [['A', 'AMP', 'BLK', 'IVZ'],\n",
    "            ['AAL', 'UAL', 'DAL', 'LUV'],\n",
    "            ['AAP', 'AZO', 'LOW', 'HD']]\n",
    "q = 1\n",
    "df = pd.read_csv('./data/data.csv', parse_dates=True, index_col='Date').dropna(how='any')\n",
    "training_returns = df['2017-01-01':'2017-12-31'].loc[:, quadruples[q]].pct_change(fill_method='ffill').replace([np.inf, -np.inf], np.nan).ffill().dropna()\n",
    "print(training_returns)"
   ]
  },
  {
   "cell_type": "code",
   "execution_count": null,
   "metadata": {},
   "outputs": [],
   "source": [
    "import pandas as pd\n",
    "import numpy as np\n",
    "import matplotlib.pyplot as plt \n",
    "from partner_selection import PartnerSelection\n",
    "from ps_utils import get_sector_data\n",
    "from strategy.CMPI_strategy import CMPI\n",
    "\n",
    "\n",
    "## Partner selection\n",
    "df = pd.read_csv('./data/data.csv', parse_dates=True, index_col='Date').dropna(how='any')\n",
    "df_selection = df['2016-01-01':'2016-12-31'] #Taking 12 month data as mentioned in the paper\n",
    "ps = PartnerSelection(df_selection)\n",
    "\n",
    "constituents = pd.read_csv('./data/constituents-detailed.csv', index_col='Symbol')\n",
    "\n",
    "quadruples = ps.extremal(20)\n",
    "print(quadruples)\n",
    "\n",
    "\n",
    "## Initialise copula\n",
    "q = 1\n",
    "training_prices = df['2017-01-01':'2017-12-31'].loc[:, quadruples[q]]\n",
    "training_returns = training_prices.pct_change().replace([np.inf, -np.inf], np.nan).ffill().dropna()\n",
    "\n",
    "strat = CMPI()\n",
    "strat.init_copula_model(training_returns)\n",
    "print(strat.cvm.summary())\n",
    "\n",
    "## Generate trading signals\n",
    "testing_prices = df['2018-01-01':'2019-12-31'].loc[:, quadruples[q]]\n",
    "testing_returns = testing_prices.pct_change().replace([np.inf, -np.inf], np.nan).ffill().dropna()\n",
    "\n",
    "cmpi = strat.generate_cmpi(testing_returns)\n",
    "print(cmpi)"
   ]
  },
  {
   "cell_type": "code",
   "execution_count": null,
   "metadata": {},
   "outputs": [],
   "source": []
  },
  {
   "cell_type": "code",
   "execution_count": null,
   "metadata": {},
   "outputs": [],
   "source": [
    "def trading_signals(signal, upper, lower, mean):\n",
    "    position = np.zeros(len(signal))\n",
    "    curr_position = 0\n",
    "    for i in range(len(signal)):\n",
    "        if curr_position == 0:\n",
    "            if signal[i] < lower[i]:\n",
    "                curr_position = -1\n",
    "            elif signal[i] > upper[i]:\n",
    "                    curr_position = 1\n",
    "        else:\n",
    "            if (signal[i] <= mean[i]) and curr_position == 1:\n",
    "                curr_position = 0\n",
    "            elif (signal[i] >= mean[i]) and curr_position == -1:\n",
    "                curr_position = 0                  \n",
    "        position[i] = curr_position\n",
    "\n",
    "    return position"
   ]
  },
  {
   "cell_type": "code",
   "execution_count": null,
   "metadata": {},
   "outputs": [],
   "source": [
    "f0 = testing_prices.plot().get_figure()\n",
    "f0.set_figheight(4)\n",
    "f0.set_figwidth(15)\n",
    "\n",
    "upper = strat.calculate_bollinger_bands(cmpi, 30, 2.5)\n",
    "lower = strat.calculate_bollinger_bands(cmpi, 30, -2.5)\n",
    "mean = strat.calculate_bollinger_bands(cmpi, 30, 0)\n",
    "f1 = plt.figure()\n",
    "f1.set_figheight(4)\n",
    "f1.set_figwidth(15)\n",
    "plt.plot(cmpi)\n",
    "plt.plot(lower)\n",
    "plt.plot(upper)\n",
    "plt.plot(mean)\n",
    "plt.show()\n",
    "\n",
    "signal = cmpi.values\n",
    "lower = lower.values\n",
    "upper = upper.values\n",
    "\n",
    "position = trading_signals(signal, upper, lower, mean)\n",
    "\n",
    "f2 = plt.figure()\n",
    "f2.set_figheight(1)\n",
    "f2.set_figwidth(15)\n",
    "plt.plot(position)"
   ]
  },
  {
   "cell_type": "code",
   "execution_count": null,
   "metadata": {},
   "outputs": [],
   "source": [
    "class VineCopPortfolio:\n",
    "    def __init__(self, value, dim) -> None:\n",
    "        self.value = value\n",
    "        self.dim = dim\n",
    "        self.holdings = np.zeros(self.dim)\n",
    "\n",
    "    def long_spread(self):\n",
    "        self.holdings[0] = self.value / 2\n",
    "        self.holdings[1:] = -self.value / 2 / (self.dim - 1)\n",
    "\n",
    "    def short_spread(self):\n",
    "        self.holdings[0] = -self.value / 2\n",
    "        self.holdings[1:] = self.value / 2 / (self.dim - 1)\n",
    "\n",
    "    def close(self):\n",
    "        self.value = np.sum(abs(self.holdings))\n",
    "        self.holdings.fill(0)\n",
    "\n",
    "    def update(self, returns):\n",
    "        self.holdings += self.holdings * returns\n",
    "        self.value = np.sum(abs(self.holdings))"
   ]
  },
  {
   "cell_type": "code",
   "execution_count": null,
   "metadata": {},
   "outputs": [],
   "source": [
    "portfolio = VineCopPortfolio(1000, 4)\n",
    "returns = testing_returns.to_numpy()\n",
    "value = []\n",
    "\n",
    "for i in range(len(position[1:])):\n",
    "    if position[i] == 1:\n",
    "        if position[i-1] == 0:\n",
    "            # long target, short group\n",
    "            portfolio.short_spread()\n",
    "            pass\n",
    "        else:\n",
    "            # add returns\n",
    "            portfolio.update(returns[i])\n",
    "            pass\n",
    "    \n",
    "    if position[i] == -1:\n",
    "        if position[i-1] == 0:\n",
    "            # short target, long group\n",
    "            portfolio.long_spread()\n",
    "            pass\n",
    "        else:\n",
    "            # add returns\n",
    "            portfolio.update(returns[i])\n",
    "            pass\n",
    "\n",
    "    if position[i] == 0:\n",
    "        if position[i-1] != 0:\n",
    "            # sell stuff\n",
    "            portfolio.update(returns[i])\n",
    "            portfolio.close()\n",
    "            pass\n",
    "        else:\n",
    "            # do nothing\n",
    "            pass\n",
    "    value.append(portfolio.value)\n",
    "\n",
    "f2 = plt.figure()\n",
    "f2.set_figheight(4)\n",
    "f2.set_figwidth(15)\n",
    "plt.plot(value)\n",
    "plt.show()\n",
    "print(portfolio.value)\n",
    "\n",
    "f2 = plt.figure()\n",
    "f2.set_figheight(1)\n",
    "f2.set_figwidth(15)\n",
    "plt.plot(position)\n",
    "plt.show()"
   ]
  },
  {
   "cell_type": "code",
   "execution_count": null,
   "metadata": {},
   "outputs": [],
   "source": []
  },
  {
   "cell_type": "code",
   "execution_count": null,
   "metadata": {},
   "outputs": [],
   "source": []
  }
 ],
 "metadata": {
  "kernelspec": {
   "display_name": "statarb-MhJAJCEv",
   "language": "python",
   "name": "python3"
  },
  "language_info": {
   "codemirror_mode": {
    "name": "ipython",
    "version": 3
   },
   "file_extension": ".py",
   "mimetype": "text/x-python",
   "name": "python",
   "nbconvert_exporter": "python",
   "pygments_lexer": "ipython3",
   "version": "3.10.6"
  },
  "orig_nbformat": 4
 },
 "nbformat": 4,
 "nbformat_minor": 2
}
