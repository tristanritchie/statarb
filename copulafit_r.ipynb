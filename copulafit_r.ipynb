{
 "cells": [
  {
   "cell_type": "code",
   "execution_count": null,
   "metadata": {},
   "outputs": [],
   "source": [
    "%load_ext autoreload\n",
    "%autoreload 2\n",
    "%reload_ext autoreload"
   ]
  },
  {
   "cell_type": "code",
   "execution_count": null,
   "metadata": {},
   "outputs": [],
   "source": [
    "from ps.partner_selection import PartnerSelection\n",
    "from ps.ps_utils import get_sector_data\n",
    "import pandas as pd\n",
    "import pyvinecopulib as pv\n",
    "import numpy as np\n",
    "from pprint import pprint\n",
    "import seaborn as sns\n",
    "import matplotlib.pyplot as plt\n",
    "from copula.c_vine_model import CVineModel\n",
    "\n",
    "\n",
    "import warnings\n",
    "warnings.filterwarnings('ignore')"
   ]
  },
  {
   "cell_type": "code",
   "execution_count": null,
   "metadata": {},
   "outputs": [],
   "source": [
    "# Load returns of selected quadruples\n",
    "df = pd.read_csv('./data/data/data.csv', parse_dates=True, index_col='Date').dropna()\n",
    "df_training = df['2017-01-01':'2017-12-31'] #Taking 12 month data as mentioned in the paper\n",
    "ps = PartnerSelection(df_training)\n",
    "\n",
    "constituents = pd.read_csv('./data/data/constituents-detailed.csv', index_col='Symbol')\n",
    "\n",
    "q = pd.read_csv('./data/quadruples.csv').to_numpy()\n",
    "all_returns = ps.get_selected_pair_returns(q)"
   ]
  },
  {
   "cell_type": "code",
   "execution_count": null,
   "metadata": {},
   "outputs": [],
   "source": [
    "# Get returns for one quadruple and convert to pseudo observations (normalised ranked)\n",
    "quadruple = 1\n",
    "training_returns = all_returns[quadruple].to_numpy()[1:]\n",
    "u = pv.to_pseudo_obs(training_returns)\n",
    "u = pd.DataFrame(u, columns=q[quadruple])"
   ]
  },
  {
   "cell_type": "code",
   "execution_count": null,
   "metadata": {},
   "outputs": [],
   "source": [
    "c = CVineModel('~/R/x86_64-pc-linux-gnu-library/4.1/VineCopula/')\n",
    "family = [1, 2, 3, 4, 5, 6, 7, 9, 10,\n",
    "          13, 16, 20, 23, 24, 26, 27, 29, 30,\n",
    "          33, 34, 36, 39, 40, \n",
    "          104, 114, 124, 134,\n",
    "          204, 214, 224, 234]\n",
    "c.fit(u, family)\n",
    "print(c.summary())"
   ]
  },
  {
   "cell_type": "code",
   "execution_count": null,
   "metadata": {},
   "outputs": [],
   "source": [
    "\n",
    "df_testing = df['2017-01-01':'2018-12-31'] #Taking 12 month data as mentioned in the paper\n",
    "ps = PartnerSelection(df_testing)\n",
    "\n",
    "constituents = pd.read_csv('./data/data/constituents-detailed.csv', index_col='Symbol')\n",
    "\n",
    "returns = ps.get_selected_pair_returns(q)\n",
    "testing_returns = returns[quadruple].to_numpy()[1:]\n",
    "u2 = pv.to_pseudo_obs(testing_returns)\n",
    "u2 = pd.DataFrame(u2, columns=q[quadruple])\n"
   ]
  },
  {
   "cell_type": "code",
   "execution_count": null,
   "metadata": {},
   "outputs": [],
   "source": [
    "p = 4\n",
    "for i in range(p,1,-1):\n",
    "    for j in range(i-1,0,-1):\n",
    "        print(f\"({i-2}, {j-1}) = ({i-1}, {j-1}), ({i-1}, {i-1})\")"
   ]
  },
  {
   "cell_type": "code",
   "execution_count": null,
   "metadata": {},
   "outputs": [],
   "source": [
    "start = 0\n",
    "stop = 249\n",
    "p = []\n",
    "while stop < u2.shape[0]:\n",
    "    group = u2.iloc[start:stop]\n",
    "    c.fit(group, family)\n",
    "    p.append(c.predict(group.iloc[-1:]))\n",
    "    \n",
    "    start += 1\n",
    "    stop += 1\n",
    "\n",
    "print(p)"
   ]
  },
  {
   "cell_type": "code",
   "execution_count": null,
   "metadata": {},
   "outputs": [],
   "source": []
  }
 ],
 "metadata": {
  "kernelspec": {
   "display_name": "statarb-MhJAJCEv",
   "language": "python",
   "name": "python3"
  },
  "language_info": {
   "codemirror_mode": {
    "name": "ipython",
    "version": 3
   },
   "file_extension": ".py",
   "mimetype": "text/x-python",
   "name": "python",
   "nbconvert_exporter": "python",
   "pygments_lexer": "ipython3",
   "version": "3.10.6"
  },
  "orig_nbformat": 4
 },
 "nbformat": 4,
 "nbformat_minor": 2
}
