{
 "cells": [
  {
   "cell_type": "markdown",
   "metadata": {},
   "source": [
    "# Implementation of Partner Selection Procedures\n",
    "\n",
    "## Abstract\n",
    "\n",
    "In this paper[1], Stubinger, Mangold and Krauss  developed  a  multivariate  statistical  arbitrage  strategy  based  on  vine  copulas  -  a  highly flexible instrument for linear and nonlinear multivariate dependence modeling. Pairs trading is a relative-value arbitrage strategy, where an investor seeks to profit from mean-reversion properties of the price spread between two co-moving securities. Existing literature focused on using  bivariate  copulas  to  model the dependence structure between two stock return time series, and to identify mispricings that can potentially be exploited in a pairs trading application. \n",
    "\n",
    "This paper proposes a multivariate copula-based statistical arbitrage framework, where specifically, for each stock in the S&P 500 data base, the three most suitable partners are selected by leveraging different selection criteria. Then, the multivariate copula models are benchmarked to capture the dependence structure of the selected quadruples. Later on, the paper focusses on the generation of trading signals and backtesting.\n",
    "\n",
    "\n",
    "## Introduction\n",
    "\n",
    "This notebook will focus on the various Partner Selection procedures and their implementations, as described in the paper. For every stock in the S&P 500, a partner triple is identified based on adequate measures of association. The following four partner selection approaches are implemented :\n",
    "- Traditional Approach - baseline approach where the high dimensional relation between the four stocks is approximated by their pairwise bivariate correlations via Spearman’s $\\rho$;\n",
    "- Extended Approach - calculating the multivariate version of Spearman’s $\\rho$ based on Schmid and Schmidt (2007)[2];\n",
    "- Geometric Approach - involves calculating the sum of euclidean distances from the 4-dimensional hyper-diagonal;\n",
    "- Extremal Approach - involves calculating a non-parametric $\\chi^2$ test statistic based on Mangold (2015)[3] to measure the degree of deviation from independence.\n",
    "\n",
    "Firstly, all measures of association are calculated using the ranks of the daily discrete returns of our samples. Ranked transformation provides robustness against outliers. Secondly, only the top 50 most highly correlated stocks are taken into consideration for each target stock, to reduce the computational burden."
   ]
  },
  {
   "cell_type": "markdown",
   "metadata": {},
   "source": [
    "---"
   ]
  },
  {
   "cell_type": "markdown",
   "metadata": {},
   "source": [
    "# Preprocessing"
   ]
  },
  {
   "cell_type": "code",
   "execution_count": 16,
   "metadata": {
    "pycharm": {
     "name": "#%%\n"
    }
   },
   "outputs": [
    {
     "name": "stdout",
     "output_type": "stream",
     "text": [
      "The autoreload extension is already loaded. To reload it, use:\n",
      "  %reload_ext autoreload\n"
     ]
    }
   ],
   "source": [
    "%load_ext autoreload\n",
    "%autoreload 2\n",
    "%reload_ext autoreload"
   ]
  },
  {
   "cell_type": "code",
   "execution_count": 17,
   "metadata": {
    "pycharm": {
     "name": "#%%\n"
    }
   },
   "outputs": [],
   "source": [
    "from partner_selection import PartnerSelection\n",
    "from ps_utils import get_sector_data\n",
    "import pandas as pd\n",
    "\n",
    "import warnings\n",
    "warnings.filterwarnings('ignore')"
   ]
  },
  {
   "cell_type": "markdown",
   "metadata": {},
   "source": [
    "# Loading the data set\n",
    "\n",
    "Dataset contains daily pricing data for all stocks in S&P 500. Data from the year 2016 is taken into consideration for this notebook.\n",
    "\n",
    "When a PartnerSelection object is created, daily returns of the stocks and their corresponding ranked returns are calculated and stored as attributes. "
   ]
  },
  {
   "cell_type": "code",
   "execution_count": 30,
   "metadata": {
    "pycharm": {
     "name": "#%%\n"
    }
   },
   "outputs": [],
   "source": [
    "df = pd.read_csv('./data/data.csv', parse_dates=True, index_col='Date').dropna()\n",
    "df = df['2019-01-01':'2019-12-31'] #Taking 12 month data as mentioned in the paper\n",
    "ps = PartnerSelection(df)\n",
    "\n",
    "constituents = pd.read_csv('./data/constituents-detailed.csv', index_col='Symbol')"
   ]
  },
  {
   "cell_type": "code",
   "execution_count": 31,
   "metadata": {},
   "outputs": [
    {
     "name": "stdout",
     "output_type": "stream",
     "text": [
      "        0     1      2     3     4     5     6     7     8     9   ...    40   \n",
      "A      TMO   PKI    WAT   MTD   DHR   ABT   HON  ISRG  HOLX   BSX  ...  MCHP  \\\n",
      "AAL    UAL   LUV    DAL   ALK   FDX   CCL    GS    CE   URI   TEL  ...  FAST   \n",
      "AAP   ORLY   AZO    GPC   HCA   BEN   CMI   HON   PNR   UHS  TSCO  ...   TDY   \n",
      "AAPL   APH  GOOG  GOOGL  MCHP  INTC  SWKS  MSFT  AMZN   TXN  MXIM  ...   HON   \n",
      "ABBV   PFE  AMGN      A  ALXN   TMO  GILD   DHR   PKI   IQV  VRTX  ...   BLK   \n",
      "...    ...   ...    ...   ...   ...   ...   ...   ...   ...   ...  ...   ...   \n",
      "YUM    MCD  VRSK     WM  SBUX   ECL   RSG  CINF   ZTS    ES   BSX  ...   HIG   \n",
      "ZBH    SYK   BAX    MDT   ABT    EW   STE  HOLX   DHR   BSX   RMD  ...   ROP   \n",
      "ZBRA  KEYS  TROW   CDNS  NVDA   FLS  ANSS  SNPS   ETN   TXN   BLK  ...   AMD   \n",
      "ZION   CMA  PBCT     RF  SIVB  FITB   CFG  HBAN   KEY   MTB   BAC  ...   BLK   \n",
      "ZTS    MRK  IDXX    PFE   BSX   DHR  VRSN   LLY   ABT   SYK   TMO  ...   MMC   \n",
      "\n",
      "        41    42   43    44    45    46    47    48    49  \n",
      "A      TFX     C  CAT   FLS   EMR  KLAC  IDXX   ITW   SWK  \n",
      "AAL    MET  NVDA  BWA  AMAT   TXN   ROK  TROW  IPGP   TPR  \n",
      "AAP    IEX   NSC   LH   WAT   NKE   WBA   NWS   MMC  LRCX  \n",
      "AAPL   BWA   EMR  URI  TROW  ADSK  WYNN   CSX    FB   BLK  \n",
      "ABBV  ANET  SNPS  HON     T   FLT  ADSK   FLS   MMC  FFIV  \n",
      "...    ...   ...  ...   ...   ...   ...   ...   ...   ...  \n",
      "YUM    ALL   EFX  WEC   DHR   ICE   KMB   BDX   NEE  NDAQ  \n",
      "ZBH   MXIM   ADI  ZTS   AJG   MCO   WST   WAT  ANSS  MSCI  \n",
      "ZBRA   BEN   ITW    A    CE   LYV   AXP   PNR   ROP  SIVB  \n",
      "ZION   DOV   BEN  TXT   RHI   FDX   ETN   PWR   SNA   FLS  \n",
      "ZTS    MTD  PAYX  BDX    IT   PKI  HOLX  ISRG   AON   AXP  \n",
      "\n",
      "[491 rows x 50 columns]\n"
     ]
    }
   ],
   "source": [
    "print(ps.top_50_correlations)"
   ]
  },
  {
   "cell_type": "markdown",
   "metadata": {},
   "source": [
    "# Step 1 : Traditional Approach\n",
    "\n",
    "- Calculate the sum of all pairwise correlations for all possible quadruples, consisting of a fixed target stock.\n",
    "- Quadruple with the largest sum of pairwise correlations is considered as the final quadruple and saved to the output matrix."
   ]
  },
  {
   "cell_type": "code",
   "execution_count": null,
   "metadata": {
    "pycharm": {
     "name": "#%%\n"
    },
    "scrolled": false
   },
   "outputs": [],
   "source": [
    "Q = ps.traditional_multiprocess(20)\n",
    "print(Q)\n",
    "ps.plot_selected_pairs(Q)"
   ]
  },
  {
   "cell_type": "code",
   "execution_count": null,
   "metadata": {
    "scrolled": false
   },
   "outputs": [],
   "source": [
    "for quadruple in Q:\n",
    "    display(get_sector_data(quadruple,constituents))"
   ]
  },
  {
   "cell_type": "code",
   "execution_count": null,
   "metadata": {},
   "outputs": [],
   "source": [
    "#Plotting measures of all quadruples for a given target\n",
    "ps.plot_all_target_measures(target='A', procedure='traditional')"
   ]
  },
  {
   "cell_type": "markdown",
   "metadata": {},
   "source": [
    "# Step 2 : Extended Approach\n",
    "\n",
    "- Calculate the multivariate version of Spearman’s $\\rho$ for all possible quadruples, consisting of a fixed target stock.\n",
    "- Quadruple with the largest value is considered as the final quadruple and saved to the output matrix."
   ]
  },
  {
   "cell_type": "code",
   "execution_count": null,
   "metadata": {
    "pycharm": {
     "name": "#%%\n"
    }
   },
   "outputs": [],
   "source": [
    "Q = ps.extended_multiprocess(20)\n",
    "print(Q)\n",
    "ps.plot_selected_pairs(Q)"
   ]
  },
  {
   "cell_type": "code",
   "execution_count": null,
   "metadata": {
    "scrolled": false
   },
   "outputs": [],
   "source": [
    "for quadruple in Q:\n",
    "    display(get_sector_data(quadruple,constituents))"
   ]
  },
  {
   "cell_type": "code",
   "execution_count": null,
   "metadata": {},
   "outputs": [],
   "source": [
    "#Plotting measures of all quadruples for a given target\n",
    "ps.plot_all_target_measures(target='A', procedure='extended')"
   ]
  },
  {
   "cell_type": "markdown",
   "metadata": {},
   "source": [
    "# Step 3 : Geometric Approach\n",
    "\n",
    "- Calculate the four dimensional diagonal measure for all possible quadruples, consisting of a fixed target stock.\n",
    "- Quadruple with the smallest diagonal measure is considered as the final quadruple and saved to the output matrix."
   ]
  },
  {
   "cell_type": "code",
   "execution_count": null,
   "metadata": {
    "pycharm": {
     "name": "#%%\n"
    }
   },
   "outputs": [],
   "source": [
    "Q = ps.geometric_multiprocess(20)\n",
    "print(Q)\n",
    "ps.plot_selected_pairs(Q)"
   ]
  },
  {
   "cell_type": "code",
   "execution_count": null,
   "metadata": {},
   "outputs": [],
   "source": [
    "for quadruple in Q:\n",
    "    display(get_sector_data(quadruple,constituents))"
   ]
  },
  {
   "cell_type": "code",
   "execution_count": null,
   "metadata": {},
   "outputs": [],
   "source": [
    "#Plotting measures of all quadruples for a given target\n",
    "ps.plot_all_target_measures(target='A', procedure='geometric')"
   ]
  },
  {
   "cell_type": "markdown",
   "metadata": {},
   "source": [
    "# Step 4 : Extremal Approach\n",
    "\n",
    "- Calculate the $\\chi^2$ test statistic for all possible quadruples, consisting of a fixed target stock.\n",
    "- Quadruple with the largest test statistic is considered as the final quadruple and saved to the output matrix."
   ]
  },
  {
   "cell_type": "code",
   "execution_count": 32,
   "metadata": {},
   "outputs": [],
   "source": [
    "Q = ps.extremal(20)\n",
    "print(Q)\n",
    "ps.plot_selected_pairs(Q)"
   ]
  },
  {
   "cell_type": "code",
   "execution_count": null,
   "metadata": {},
   "outputs": [],
   "source": [
    "for quadruple in Q:\n",
    "    display(get_sector_data(quadruple,constituents))"
   ]
  },
  {
   "cell_type": "code",
   "execution_count": null,
   "metadata": {},
   "outputs": [],
   "source": [
    "#Plotting measures of all quadruples for a given target\n",
    "ps.plot_all_target_measures(target='A', procedure='extremal')"
   ]
  },
  {
   "cell_type": "code",
   "execution_count": null,
   "metadata": {},
   "outputs": [],
   "source": [
    "#Plotting the correlation matrix heatmap of all stocks on S&P 500\n",
    "ps.plot_correlation()"
   ]
  },
  {
   "cell_type": "markdown",
   "metadata": {},
   "source": [
    "# Conclusion\n",
    "\n",
    "This notebook describes the proposed Partner Selection Framework, also showcasing example usage of the implemented framework.\n",
    "\n",
    "The first three procedures seem to generate the same final set of quadruples for every target stock in the universe. Another important takeaway is the Industry/Sub-Sector of the stocks in most of the final quadruples are highly correlated, even though clustering methods were not used in this framework.\n",
    "\n",
    "Some Interesting Observations:\n",
    "- ABC(AmerisourceBergen Corp) which is a Health Care Distibutor seems to have highly correlated partners in Financial Services. This observation holds true for all four approaches.\n",
    "- For ABT(Abbott Laboratories), a Health Care Equipment Manufacturer, Extremal Approach returned three partners which are in Financial Services. This behaviour is against the results obtained from the other three approaches.\n",
    "- According to all four approaches, ADM(Archer-Daniels-Midland Co) an Agricultural Products business, seems to have highly correlated partners in Asset Management.  \n"
   ]
  },
  {
   "cell_type": "markdown",
   "metadata": {},
   "source": [
    "# References\n",
    "[1]. Stübinger, Johannes; Mangold, Benedikt; Krauss, Christopher. Statistical Arbitrage with Vine Copulas. Available at: https://www.econstor.eu/bitstream/10419/147450/1/870932616.pdf\n",
    "\n",
    "[2]. Schmid, F., Schmidt, R., 2007. Multivariate extensions of Spearman’s rho and related statis-tics. Statistics & Probability Letters 77 (4), 407–416.\n",
    "\n",
    "[3]. Mangold, B., 2015. A multivariate linear rank test of independence based on a multipara-metric copula with cubic sections. IWQW Discussion Paper Series, University of Erlangen-N ̈urnberg. Available at: https://www.statistik.rw.fau.de/files/2016/03/IWQW-10-2015.pdf\n"
   ]
  },
  {
   "cell_type": "code",
   "execution_count": null,
   "metadata": {},
   "outputs": [],
   "source": [
    "import pyvinecopulib as pv\n",
    "import numpy as np"
   ]
  },
  {
   "cell_type": "code",
   "execution_count": null,
   "metadata": {},
   "outputs": [],
   "source": [
    "returns = ps.get_selected_pair_returns(Q)[1].to_numpy()"
   ]
  },
  {
   "cell_type": "code",
   "execution_count": null,
   "metadata": {},
   "outputs": [],
   "source": [
    "from copulas.multivariate import VineCopula\n",
    "\n",
    "u = pd.DataFrame(pv.to_pseudo_obs(returns), columns=['s1', 's2', 's3', 's4'])\n",
    "center = VineCopula('center')\n",
    "center.fit(u)"
   ]
  },
  {
   "cell_type": "code",
   "execution_count": null,
   "metadata": {},
   "outputs": [],
   "source": [
    "center_samples = center.sample(1000)"
   ]
  },
  {
   "cell_type": "code",
   "execution_count": null,
   "metadata": {},
   "outputs": [],
   "source": [
    "from mpl_toolkits.mplot3d import Axes3D\n",
    "import matplotlib.pyplot as plt\n",
    "\n",
    "def scatter_4d(u):\n",
    "    fig = plt.figure(figsize=(10, 10))\n",
    "    ax1 = fig.add_subplot(111, projection='3d')\n",
    "    img = ax1.scatter(u['s1'], u['s2'], u['s3'], c=u['s4'], cmap=plt.hot())\n",
    "\n",
    "    fig.colorbar(img)\n",
    "    plt.show()"
   ]
  },
  {
   "cell_type": "code",
   "execution_count": null,
   "metadata": {},
   "outputs": [],
   "source": [
    "arrays = {'real': u, 'sampled': center_samples}\n",
    "position_base = f'1{len(arrays)}'\n",
    "for index, (title, array) in enumerate(arrays.items()):\n",
    "    position = int(position_base + str(index + 1))\n",
    "    scatter_4d(array)\n"
   ]
  },
  {
   "cell_type": "code",
   "execution_count": null,
   "metadata": {},
   "outputs": [],
   "source": [
    "parameters = center.to_dict()\n",
    "parameters.keys()\n",
    "\n",
    "print(parameters.keys())"
   ]
  },
  {
   "cell_type": "code",
   "execution_count": null,
   "metadata": {},
   "outputs": [],
   "source": [
    "mat = center.u_matrix\n",
    "\n",
    "fig = plt.figure(figsize=(10, 10))\n",
    "ax1 = fig.add_subplot(111)\n",
    "img = ax1.scatter(mat[:, 0], mat[:, 1], mat[:, 2], mat[:, 3])\n"
   ]
  },
  {
   "cell_type": "code",
   "execution_count": null,
   "metadata": {},
   "outputs": [],
   "source": [
    "print(center.unis)"
   ]
  },
  {
   "cell_type": "code",
   "execution_count": null,
   "metadata": {},
   "outputs": [],
   "source": [
    "import pyvinecopulib as pv\n",
    "\n"
   ]
  }
 ],
 "metadata": {
  "kernelspec": {
   "display_name": "Python 3",
   "language": "python",
   "name": "python3"
  },
  "language_info": {
   "codemirror_mode": {
    "name": "ipython",
    "version": 3
   },
   "file_extension": ".py",
   "mimetype": "text/x-python",
   "name": "python",
   "nbconvert_exporter": "python",
   "pygments_lexer": "ipython3",
   "version": "3.10.10"
  },
  "vscode": {
   "interpreter": {
    "hash": "a5de64471995492ddc618a58ecdfb7a4b97e4a4f9afd41641e70cf3b1dd10a09"
   }
  }
 },
 "nbformat": 4,
 "nbformat_minor": 1
}
